{
 "cells": [
  {
   "cell_type": "code",
   "execution_count": null,
   "id": "7b9e3899",
   "metadata": {},
   "outputs": [],
   "source": []
  },
  {
   "cell_type": "code",
   "execution_count": 2,
   "id": "51654474",
   "metadata": {},
   "outputs": [
    {
     "ename": "NameError",
     "evalue": "name 'df' is not defined",
     "output_type": "error",
     "traceback": [
      "\u001b[1;31m---------------------------------------------------------------------------\u001b[0m",
      "\u001b[1;31mNameError\u001b[0m                                 Traceback (most recent call last)",
      "Cell \u001b[1;32mIn[2], line 1\u001b[0m\n\u001b[1;32m----> 1\u001b[0m df[\u001b[38;5;124m'\u001b[39m\u001b[38;5;124mCategory\u001b[39m\u001b[38;5;124m'\u001b[39m]\u001b[38;5;241m.\u001b[39misna()\u001b[38;5;241m.\u001b[39msum()\n",
      "\u001b[1;31mNameError\u001b[0m: name 'df' is not defined"
     ]
    }
   ],
   "source": [
    "df['Category'].isna().sum()"
   ]
  },
  {
   "cell_type": "code",
   "execution_count": null,
   "id": "830e6571",
   "metadata": {},
   "outputs": [],
   "source": []
  },
  {
   "cell_type": "code",
   "execution_count": null,
   "id": "320e8294",
   "metadata": {},
   "outputs": [],
   "source": [
    "df['Category']= df['Category'].apply(lambda x:1 if x=='ham' else 0)\n",
    "df"
   ]
  },
  {
   "cell_type": "code",
   "execution_count": 3,
   "id": "2394233f",
   "metadata": {},
   "outputs": [
    {
     "data": {
      "text/plain": [
       "array([1, 0, 1, 0, 1, 1, 0, 1], dtype=int64)"
      ]
     },
     "execution_count": 3,
     "metadata": {},
     "output_type": "execute_result"
    }
   ],
   "source": [
    "import pandas as pd\n",
    "df= pd.read_csv(\"C:\\\\Users\\\\shram\\\\OneDrive\\\\Desktop\\\\spam.csv\")\n",
    "df.head(5)\n",
    "emails = [\n",
    "    'hello shraman',  'you have won $1000','how r u buddy?','DO you want $100 gift card?',\"FLIP OUT THONGS - Limited time offer Right now, you can get your very own pair of FLIPOUT thongs with special 1 hour and 2-hour FLIP & THONG sessions. They are available in all sizes so grab a pair for the whole family\",'Get 25% off your first reserved ride(excl. fees, max $25) We can’t give you an extra hour in bed, but a saving off your first Uber Reserve ride is the next best thing.Ride before 11:59pm AEST 5 May 2024 to save. T&Cs apply'\n",
    ",'Hi Shraman Ratna Tuladhar,Please be advised the monthly statement for (2024/01) for your account (CAU0411810) is now available.Please log in to your Webull app → Account (Webull Icon Menu Item) → Documents → Statements to view your monthly statement.For any queries, please contact us through the Webull App: Menu → Help Center → Contact Us.Thank you for choosing Webull!Regards,Team Webull'\n",
    ",'\"Hi there! This is Prisma from SISTC Student Services. 😊 Hope you had a fantastic break during the summer semester! 🌞 Just a friendly reminder that self-enrollment for T1 2024 at SISTC has started, and we would love for you to enroll as soon as possible. The Australian Department of Home Affairs requires students to keep their providers updated about their current status and contact details. Could you please let us know your current status and your intention to study further? The deadline for this is 2:00pm 13/02/2024. Your prompt response is highly appreciated. Failure to respond may result in further action. Thank you!Please reply back to this message to confirm.'\n",
    "]\n",
    "df['Category']= df['Category'].apply(lambda x:1 if x=='ham' else 0)\n",
    "from sklearn.feature_extraction.text import CountVectorizer\n",
    "from sklearn.pipeline import Pipeline\n",
    "from sklearn.model_selection import train_test_split\n",
    "from sklearn.naive_bayes import MultinomialNB\n",
    "import matplotlib.pyplot as plt\n",
    "\n",
    "\n",
    "model= MultinomialNB()\n",
    "X_train,X_test,Y_train,Y_test= train_test_split(df.Message,df.Category,test_size=0.2)\n",
    "clf= Pipeline([\n",
    "     ('vectorizer', CountVectorizer()),\n",
    "    ('m',MultinomialNB())\n",
    "])\n",
    "clf.fit(X_train,Y_train)\n",
    "clf.predict(emails)\n"
   ]
  },
  {
   "cell_type": "code",
   "execution_count": 4,
   "id": "056e75c0",
   "metadata": {},
   "outputs": [
    {
     "data": {
      "text/plain": [
       "0.9829596412556054"
      ]
     },
     "execution_count": 4,
     "metadata": {},
     "output_type": "execute_result"
    }
   ],
   "source": [
    "clf.score(X_test,Y_test)"
   ]
  },
  {
   "cell_type": "code",
   "execution_count": 5,
   "id": "64f790df",
   "metadata": {},
   "outputs": [
    {
     "data": {
      "image/png": "[encoded data removed]",
      "text/plain": [
       "<Figure size 800x600 with 1 Axes>"
      ]
     },
     "metadata": {},
     "output_type": "display_data"
    }
   ],
   "source": [
    "\n",
    "predictions = clf.predict(emails)\n",
    "\n",
    "# Convert predictions to DataFrame for visualization\n",
    "email_predictions_df = pd.DataFrame({'Email': emails, 'Predicted Category': predictions})\n",
    "\n",
    "# Visualize the distribution of predicted categories\n",
    "category_counts = email_predictions_df['Predicted Category'].value_counts()\n",
    "\n",
    "# Create a bar plot\n",
    "plt.figure(figsize=(8, 6))\n",
    "category_counts.plot(kind='bar', color=['skyblue', 'salmon'])\n",
    "plt.title('Predicted Categories for Emails')\n",
    "plt.xlabel('Category')\n",
    "plt.ylabel('Count')\n",
    "plt.xticks([0, 1], ['Ham', 'Spam'], rotation=0)\n",
    "plt.show()"
   ]
  },
  {
   "cell_type": "code",
   "execution_count": 6,
   "id": "5c1a57d0",
   "metadata": {},
   "outputs": [
    {
     "data": {
      "text/plain": [
       "array([0, 1, 0, ..., 1, 1, 1], dtype=int64)"
      ]
     },
     "execution_count": 6,
     "metadata": {},
     "output_type": "execute_result"
    }
   ],
   "source": [
    "clf.predict(X_test)"
   ]
  },
  {
   "cell_type": "code",
   "execution_count": 7,
   "id": "d6d24536",
   "metadata": {},
   "outputs": [
    {
     "data": {
      "text/plain": [
       "801     0\n",
       "5204    1\n",
       "3463    0\n",
       "2835    1\n",
       "1323    1\n",
       "       ..\n",
       "2131    1\n",
       "1203    1\n",
       "3408    1\n",
       "91      1\n",
       "3188    1\n",
       "Name: Category, Length: 1115, dtype: int64"
      ]
     },
     "execution_count": 7,
     "metadata": {},
     "output_type": "execute_result"
    }
   ],
   "source": [
    "Y_test\n"
   ]
  },
  {
   "cell_type": "code",
   "execution_count": 11,
   "id": "a4c765f0",
   "metadata": {},
   "outputs": [],
   "source": [
    "import pickle\n",
    "with open (\"spam_detector.pickle\",'wb')as f:\n",
    "    pickle.dump(clf,f)\n"
   ]
  },
  {
   "cell_type": "code",
   "execution_count": null,
   "id": "1a63b3a9",
   "metadata": {},
   "outputs": [],
   "source": []
  }
 ],
 "metadata": {
  "kernelspec": {
   "display_name": "Python 3 (ipykernel)",
   "language": "python",
   "name": "python3"
  },
  "language_info": {
   "codemirror_mode": {
    "name": "ipython",
    "version": 3
   },
   "file_extension": ".py",
   "mimetype": "text/x-python",
   "name": "python",
   "nbconvert_exporter": "python",
   "pygments_lexer": "ipython3",
   "version": "3.11.3"
  }
 },
 "nbformat": 4,
 "nbformat_minor": 5
}
